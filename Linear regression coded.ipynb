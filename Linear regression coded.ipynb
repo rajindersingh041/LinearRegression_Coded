{
 "cells": [
  {
   "cell_type": "code",
   "execution_count": 224,
   "metadata": {},
   "outputs": [],
   "source": [
    "import numpy as np\n",
    "import matplotlib.pyplot as plt\n",
    "import random\n",
    "from numpy import mean\n",
    "import pandas as pd"
   ]
  },
  {
   "cell_type": "code",
   "execution_count": 225,
   "metadata": {},
   "outputs": [],
   "source": [
    "#!pip install matplotlib\n",
    "#!pip install sklearn"
   ]
  },
  {
   "cell_type": "markdown",
   "metadata": {},
   "source": [
    "## Multivariate regression equation"
   ]
  },
  {
   "cell_type": "markdown",
   "metadata": {},
   "source": [
    "![Beta_equation](img/Beta.png)"
   ]
  },
  {
   "cell_type": "code",
   "execution_count": 435,
   "metadata": {},
   "outputs": [],
   "source": [
    "class My_Linear_Regression():\n",
    "    def __init__(self):\n",
    "        pass\n",
    "    \n",
    "\n",
    "    def create_random_data(self,hm_features,obs):\n",
    "\n",
    "        X = np.ones((obs))\n",
    "\n",
    "        for i in range(hm_features):\n",
    "            xs = np.array([100*random.random() for i in range(obs)],dtype=np.float64)\n",
    "            #print(xs)\n",
    "            X = np.append(X,xs)\n",
    "\n",
    "        X = np.reshape(X, (-1,obs)).transpose()\n",
    "        ys = np.array([100*random.random() for i in range(obs)],dtype=np.float64)\n",
    "\n",
    "        return X,ys\n",
    "    \n",
    "    def estimate_coefficients(self,x, y):\n",
    "        '''\n",
    "            β = (X^T X)^-1 X^T y\n",
    "            Estimates both the intercept and all coefficients.\n",
    "        '''\n",
    "        xT = x.transpose()\n",
    "\n",
    "        inversed = np.linalg.inv( xT.dot(x) )\n",
    "        coefficients = inversed.dot( xT ).dot(y)\n",
    "\n",
    "        return coefficients\n",
    "    \n",
    "    def predict_LR(self,ceoff,x):\n",
    "        '''\n",
    "        β (X^T X)  (X^T)^-1\n",
    "        '''\n",
    "        return X.dot(ceoff)\n",
    "    \n",
    "    def model_stats(self,y_hat,y):\n",
    "        '''\n",
    "        1) MAE -> Y_hat - y\n",
    "        2) MAPE -> (Y_hat - y)/y\n",
    "        3) R2\n",
    "        '''\n",
    "        y_mean = np.mean(y)\n",
    "        sse = sum((y_hat - y)**2)\n",
    "        ssm =sum((y_mean-y)**2)\n",
    "        return np.average(np.abs(y_hat - y)), np.mean(np.abs(y_hat - y)/y), 1 - (sse/ssm)\n",
    "        \n",
    "        \n",
    "        "
   ]
  },
  {
   "cell_type": "code",
   "execution_count": 436,
   "metadata": {},
   "outputs": [],
   "source": [
    "#random data generated\n",
    "X,ys = My_Linear_Regression().create_random_data(4,10)"
   ]
  },
  {
   "cell_type": "code",
   "execution_count": 437,
   "metadata": {},
   "outputs": [],
   "source": [
    "#run linear regression\n",
    "my_betas = My_Linear_Regression().estimate_coefficients(X,ys)"
   ]
  },
  {
   "cell_type": "code",
   "execution_count": 438,
   "metadata": {},
   "outputs": [],
   "source": [
    "#predict\n",
    "y_hat = My_Linear_Regression().predict_LR(my_betas,X)"
   ]
  },
  {
   "cell_type": "code",
   "execution_count": 439,
   "metadata": {},
   "outputs": [
    {
     "data": {
      "text/plain": [
       "(22.720024170226203, 4.0195998065669585, 0.234979027409148)"
      ]
     },
     "execution_count": 439,
     "metadata": {},
     "output_type": "execute_result"
    }
   ],
   "source": [
    "My_Linear_Regression().model_stats(y_hat,ys)"
   ]
  },
  {
   "cell_type": "markdown",
   "metadata": {},
   "source": [
    "### Linear regression by sklearn"
   ]
  },
  {
   "cell_type": "code",
   "execution_count": 440,
   "metadata": {},
   "outputs": [],
   "source": [
    "import sklearn\n",
    "from sklearn.linear_model import LinearRegression"
   ]
  },
  {
   "cell_type": "code",
   "execution_count": 441,
   "metadata": {},
   "outputs": [],
   "source": [
    "clf = LinearRegression()"
   ]
  },
  {
   "cell_type": "code",
   "execution_count": 442,
   "metadata": {},
   "outputs": [],
   "source": [
    "#X = [x for x in zip(xs_0,xs_1)]\n",
    "#X = [x for x in zip(xs_0,xs_1,xs_2,xs_3)]\n",
    "#X = [xs_1] + [xs_0]"
   ]
  },
  {
   "cell_type": "code",
   "execution_count": 443,
   "metadata": {
    "scrolled": true
   },
   "outputs": [
    {
     "data": {
      "text/plain": [
       "LinearRegression()"
      ]
     },
     "execution_count": 443,
     "metadata": {},
     "output_type": "execute_result"
    }
   ],
   "source": [
    "#ys_ = ys.reshape(-1,1)\n",
    "#clf.fit(xs_0.reshape(-1,1),ys)  #temp.reshape(-1,1)\n",
    "clf.fit(X,ys)  #temp.reshape(-1,1)"
   ]
  },
  {
   "cell_type": "code",
   "execution_count": 444,
   "metadata": {},
   "outputs": [
    {
     "data": {
      "text/plain": [
       "(array([ 0.        , -0.27811955,  0.78311932, -0.23451424, -0.06628658]),\n",
       " 12.786601861288563)"
      ]
     },
     "execution_count": 444,
     "metadata": {},
     "output_type": "execute_result"
    }
   ],
   "source": [
    "clf.coef_,clf.intercept_"
   ]
  },
  {
   "cell_type": "code",
   "execution_count": 445,
   "metadata": {},
   "outputs": [],
   "source": [
    "y_LR_hat = clf.predict(X)"
   ]
  },
  {
   "cell_type": "code",
   "execution_count": 446,
   "metadata": {},
   "outputs": [],
   "source": [
    "from sklearn.metrics import *"
   ]
  },
  {
   "cell_type": "code",
   "execution_count": 447,
   "metadata": {},
   "outputs": [
    {
     "data": {
      "text/plain": [
       "(0.23497902740914822, 22.720024170226175, 752.6285222073338)"
      ]
     },
     "execution_count": 447,
     "metadata": {},
     "output_type": "execute_result"
    }
   ],
   "source": [
    "r2_score(ys,y_LR_hat), mean_absolute_error(ys,y_LR_hat), mean_squared_error(ys,y_LR_hat)"
   ]
  },
  {
   "cell_type": "code",
   "execution_count": null,
   "metadata": {},
   "outputs": [],
   "source": []
  }
 ],
 "metadata": {
  "kernelspec": {
   "display_name": "Python 3",
   "language": "python",
   "name": "python3"
  },
  "language_info": {
   "codemirror_mode": {
    "name": "ipython",
    "version": 3
   },
   "file_extension": ".py",
   "mimetype": "text/x-python",
   "name": "python",
   "nbconvert_exporter": "python",
   "pygments_lexer": "ipython3",
   "version": "3.8.3"
  }
 },
 "nbformat": 4,
 "nbformat_minor": 4
}
